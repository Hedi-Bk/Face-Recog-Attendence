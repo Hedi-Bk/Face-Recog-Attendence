{
 "cells": [
  {
   "cell_type": "code",
   "execution_count": null,
   "id": "76fa5ff8",
   "metadata": {},
   "outputs": [
    {
     "name": "stdout",
     "output_type": "stream",
     "text": [
      "[[104.58100891113281 117.39596557617188]\n",
      " [155.81317138671875 118.85327911376953]\n",
      " [128.9324188232422 141.69390869140625]\n",
      " [105.13909912109375 157.60546875]\n",
      " [150.96910095214844 160.802978515625]]\n"
     ]
    },
    {
     "data": {
      "text/plain": [
       "-1"
      ]
     },
     "execution_count": 54,
     "metadata": {},
     "output_type": "execute_result"
    }
   ],
   "source": [
    "from facenet_pytorch import MTCNN ,InceptionResnetV1\n",
    "import cv2 \n",
    "import os\n",
    "import matplotlib.pyplot as plt\n",
    "import pickle\n",
    "import numpy as np\n",
    "from PIL import Image\n",
    "\n",
    "mtcnn = MTCNN()\n",
    "resnet = InceptionResnetV1(pretrained='vggface2').eval()\n",
    "# Load Image \n",
    "img = cv2.imread(\"./images/Hedi.jpg\",cv2.COLOR_BGR2RGB)\n",
    "img = cv2.resize(img,(260,260))\n",
    "# Face Detetcion \n",
    "boxes, probs, landmarks= mtcnn.detect(img,landmarks=True)\n",
    "# Visualize\n",
    "x1,y1,x2,y2 = boxes[0]\n",
    "x1,y1,x2,y2 = int(x1),int(y1),int(x2),int(y2)\n",
    "img =cv2.rectangle(img, (x1,y1),(x2,y2),(0,255,0),2)\n",
    "cv2.imshow(\"Image\",img)\n",
    "cv2.waitKey(0)\n",
    "landmarkss=landmarks[0]\n",
    "print(landmarkss)\n",
    "\n",
    "for landmark in landmarkss:\n",
    "    x,y= landmark\n",
    "    x,y = int(x),int(y)\n",
    "    cv2.circle(img,(x,y),5,(0,0,255),-1)\n",
    "cv2.imshow(\"Image\",img)\n",
    "cv2.waitKey(0)"
   ]
  },
  {
   "cell_type": "code",
   "execution_count": 149,
   "id": "f9ca53a8",
   "metadata": {},
   "outputs": [
    {
     "name": "stdout",
     "output_type": "stream",
     "text": [
      "1 day, 21:39:20.914647\n"
     ]
    }
   ],
   "source": [
    "from datetime import datetime\n",
    "last_attandance_time = '2025-07-21 00:00:00'\n",
    "dateTimeObject = datetime.strptime(last_attandance_time,\"%Y-%m-%d %H:%M:%S\")\n",
    "secondElapsed = (datetime.now() - dateTimeObject)\n",
    "print(secondElapsed)"
   ]
  }
 ],
 "metadata": {
  "kernelspec": {
   "display_name": "Python 3",
   "language": "python",
   "name": "python3"
  },
  "language_info": {
   "codemirror_mode": {
    "name": "ipython",
    "version": 3
   },
   "file_extension": ".py",
   "mimetype": "text/x-python",
   "name": "python",
   "nbconvert_exporter": "python",
   "pygments_lexer": "ipython3",
   "version": "3.11.9"
  }
 },
 "nbformat": 4,
 "nbformat_minor": 5
}
